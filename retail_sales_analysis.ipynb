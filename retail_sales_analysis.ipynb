{
 "cells": [
  {
   "cell_type": "markdown",
   "id": "9e935c44",
   "metadata": {},
   "source": [
    "# Introduction 🙉\n",
    "\n",
    "\n",
    "The present project is a copy of Retail Sales Analysis and Rating Prediction by Brian Risk. Find it: https://www.kaggle.com/code/devraai/retail-sales-analysis-and-rating-prediction/notebook\n",
    "\n",
    "The aim of the study project includes explore interesting trends and relationships. Also build a predictor model for customer rating.\n",
    "\n",
    "I will try comment all the process to focus on learning process, it includes the conclusion part, i will try conclude this project with my own words."
   ]
  },
  {
   "cell_type": "markdown",
   "id": "ac9fc180",
   "metadata": {},
   "source": [
    "**Table of contents**\n",
    "\n",
    "1. [Libraries importing](#import)\n",
    "1. [Data cleaning and preprocessing](#cleaning)\n",
    "1. [Exploratory Data Analysis](#EDA)\n",
    "1. [Predictor Model](#model)\n",
    "1. [Conclusion](#conclusion)"
   ]
  },
  {
   "cell_type": "markdown",
   "id": "6ddc47f8",
   "metadata": {},
   "source": [
    "## 📖 Libraries importing <a id='import'></a>"
   ]
  },
  {
   "cell_type": "code",
   "execution_count": 3,
   "id": "377396a7",
   "metadata": {},
   "outputs": [],
   "source": [
    "import pandas as pd\n",
    "import numpy as np\n",
    "import seaborn as sns\n",
    "import matplotlib\n",
    "matplotlib.use('agg')\n",
    "import matplotlib.pyplot as plt\n",
    "plt.switch_backend('agg')\n",
    "from sklearn.model_selection import train_test_split\n",
    "from sklearn.linear_model import LinearRegression\n",
    "from sklearn.metrics import r2_score\n",
    "%matplotlib inline\n",
    "\n",
    "sns.set(style='whitegrid')\n"
   ]
  },
  {
   "cell_type": "markdown",
   "id": "b59acab2",
   "metadata": {},
   "source": [
    "## 🧹 Data Cleaning and preprocessing <a id='cleaning'></a>"
   ]
  },
  {
   "cell_type": "markdown",
   "id": "df264d9e",
   "metadata": {},
   "source": [
    "## 🔍 Exploratory Data Analysis <a id='EDA'></a>"
   ]
  },
  {
   "cell_type": "markdown",
   "id": "586ff03b",
   "metadata": {},
   "source": [
    "## 📊 Predictor Model <a id='model'></a>"
   ]
  },
  {
   "cell_type": "markdown",
   "id": "4d51c491",
   "metadata": {},
   "source": [
    "## 💭 Conclusion <a id='conclusion'></a>"
   ]
  }
 ],
 "metadata": {
  "kernelspec": {
   "display_name": "retail_sales_analysis (3.13.2)",
   "language": "python",
   "name": "python3"
  },
  "language_info": {
   "codemirror_mode": {
    "name": "ipython",
    "version": 3
   },
   "file_extension": ".py",
   "mimetype": "text/x-python",
   "name": "python",
   "nbconvert_exporter": "python",
   "pygments_lexer": "ipython3",
   "version": "3.13.2"
  }
 },
 "nbformat": 4,
 "nbformat_minor": 5
}
